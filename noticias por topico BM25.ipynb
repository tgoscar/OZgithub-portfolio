{
 "cells": [
  {
   "cell_type": "code",
   "execution_count": 21,
   "id": "f44a05ef",
   "metadata": {},
   "outputs": [
    {
     "name": "stdout",
     "output_type": "stream",
     "text": [
      "Defaulting to user installation because normal site-packages is not writeable\n",
      "Looking in indexes: https://srv-nexus.sbs.gob.pe/repository/pypi_public/simple\n",
      "Requirement already satisfied: requests in c:\\users\\oscar.toledo\\appdata\\roaming\\python\\python311\\site-packages (2.31.0)\n",
      "Requirement already satisfied: beautifulsoup4 in c:\\users\\oscar.toledo\\appdata\\roaming\\python\\python311\\site-packages (4.12.2)\n",
      "Requirement already satisfied: charset-normalizer<4,>=2 in c:\\users\\oscar.toledo\\appdata\\roaming\\python\\python311\\site-packages (from requests) (3.1.0)\n",
      "Requirement already satisfied: idna<4,>=2.5 in c:\\users\\oscar.toledo\\appdata\\roaming\\python\\python311\\site-packages (from requests) (3.4)\n",
      "Requirement already satisfied: urllib3<3,>=1.21.1 in c:\\users\\oscar.toledo\\appdata\\roaming\\python\\python311\\site-packages (from requests) (2.0.3)\n",
      "Requirement already satisfied: certifi>=2017.4.17 in c:\\users\\oscar.toledo\\appdata\\roaming\\python\\python311\\site-packages (from requests) (2023.5.7)\n",
      "Requirement already satisfied: soupsieve>1.2 in c:\\users\\oscar.toledo\\appdata\\roaming\\python\\python311\\site-packages (from beautifulsoup4) (2.4.1)\n"
     ]
    }
   ],
   "source": [
    "!pip install requests beautifulsoup4 "
   ]
  },
  {
   "cell_type": "code",
   "execution_count": 24,
   "id": "8eca8542",
   "metadata": {},
   "outputs": [],
   "source": [
    "#import beautifulsoup\n",
    "import numpy as np\n",
    "import requests\n",
    "from bs4 import BeautifulSoup\n",
    "import re"
   ]
  },
  {
   "cell_type": "code",
   "execution_count": 25,
   "id": "1b90c00f",
   "metadata": {},
   "outputs": [
    {
     "name": "stdout",
     "output_type": "stream",
     "text": [
      "Noticias extraídas: 53\n"
     ]
    }
   ],
   "source": [
    "#Paso 1: Web Scraping con BeautifulSoup\n",
    "\n",
    "# Función para extraer noticias de una web de noticias (ejemplo de scraping)\n",
    "def obtener_noticias(url):\n",
    "    noticias = []\n",
    "    response = requests.get(url)\n",
    "    \n",
    "    # Verifica que el acceso a la página es exitoso\n",
    "    if response.status_code == 200:\n",
    "        soup = BeautifulSoup(response.content, 'html.parser')\n",
    "        \n",
    "        # Extraer titulares y contenido de artículos\n",
    "        for link in soup.find_all('h2'):\n",
    "            # Suponiendo que los titulares están en <h2> y el texto en <p>\n",
    "            #titulo = article.find('h2').get_text(strip=True) if article.find('h2') else ''\n",
    "            titulo = link.get_text(strip=True)\n",
    "            #contenido = article.find('p').get_text(strip=True) if article.find('p') else ''\n",
    "            \n",
    "            # Limpiar texto si es necesario (quitar caracteres especiales)\n",
    "            titulo = re.sub(r'\\s+', ' ', titulo)\n",
    "            #contenido = re.sub(r'\\s+', ' ', contenido)\n",
    "            \n",
    "            #noticias.append({'titulo': titulo, 'contenido': contenido})\n",
    "            noticias.append(titulo)\n",
    "            \n",
    "    return noticias\n",
    "\n",
    "# URL de ejemplo (puedes ajustar a una web de noticias real)\n",
    "url = 'https://gestion.pe/?ref=gesr'\n",
    "noticias = obtener_noticias(url)\n",
    "\n",
    "# Ver cuántas noticias se han extraído\n",
    "print(f'Noticias extraídas: {len(noticias)}')\n"
   ]
  },
  {
   "cell_type": "code",
   "execution_count": 31,
   "id": "5e4a50b0",
   "metadata": {},
   "outputs": [
    {
     "name": "stdout",
     "output_type": "stream",
     "text": [
      "Titulares extraídos: 53\n",
      "Titulo: “Prácticas abusivas” con seguro de desgravamen serían sancionadas\n",
      "Puntaje BM25: 2.7859\n",
      "Titulo: MEF plantea “recortes prioritarios” para cumplir meta fiscal\n",
      "Puntaje BM25: 0.0000\n",
      "Titulo: Proyecto que busca darle fin al Reinfo sale la próxima semana, ¿qué se prepara?\n",
      "Puntaje BM25: 0.0000\n",
      "Titulo: Gasoducto al sur: TGP solicita 10 años más de periodo de concesión\n",
      "Puntaje BM25: 0.0000\n",
      "Titulo: Estos 20 distritos “ricos” contrarreloj para gastar más de S/ 2,000 millones\n",
      "Puntaje BM25: 0.0000\n",
      "Titulo: Midagri alista cambios a Agrobanco que agravarían su situación\n",
      "Puntaje BM25: 0.0000\n",
      "Titulo: Hay más trabajadores con educación universitaria que no pueden cubrir canasta mínima\n",
      "Puntaje BM25: 0.0000\n",
      "Titulo: Oficinas Clase A: los metros cuadrados que están en pausa y una renta que podría subir\n",
      "Puntaje BM25: 0.0000\n",
      "Titulo: Día de la Canción Criolla: estrategias de los restaurantes para subir las ventas\n",
      "Puntaje BM25: 0.0000\n",
      "Titulo: Economía bajo análisis: tres razones que explicarían el resultado de este trimestre\n",
      "Puntaje BM25: 0.0000\n"
     ]
    }
   ],
   "source": [
    "#Paso 2: Aplicar BM25 para buscar \"fraudes electrónicos\"\n",
    "\n",
    "\n",
    "from sklearn.feature_extraction.text import TfidfVectorizer\n",
    "\n",
    "# Función para aplicar BM25 sobre los títulos extraídos\n",
    "def bm25_search(corpus, query, top_n=10, k1=1.5, b=0.75):\n",
    "    # Vectorización de los documentos utilizando TF-IDF\n",
    "    vectorizer = TfidfVectorizer(use_idf=True)\n",
    "    X = vectorizer.fit_transform(corpus)\n",
    "    \n",
    "    # Extraer IDF (Inverse Document Frequency) de los términos\n",
    "    idf = vectorizer.idf_\n",
    "    tf = X.toarray()  # Term frequency\n",
    "    \n",
    "    # Longitud promedio de los documentos\n",
    "    avgdl = np.mean([len(doc.split()) for doc in corpus])\n",
    "    \n",
    "    # Función para calcular el puntaje BM25\n",
    "    def score(doc_index, query_terms):\n",
    "        score = 0\n",
    "        doc_length = len(corpus[doc_index].split())\n",
    "        for term in query_terms:\n",
    "            if term in vectorizer.vocabulary_:\n",
    "                term_index = vectorizer.vocabulary_[term]\n",
    "                term_freq = tf[doc_index][term_index]\n",
    "                \n",
    "                # Fórmula BM25\n",
    "                idf_term = idf[term_index]\n",
    "                numerator = term_freq * (k1 + 1)\n",
    "                denominator = term_freq + k1 * (1 - b + b * (doc_length / avgdl))\n",
    "                score += idf_term * (numerator / denominator)\n",
    "        return score\n",
    "    \n",
    "    # Procesar la consulta de búsqueda\n",
    "    query_terms = query.split()\n",
    "    \n",
    "    # Calcular puntajes BM25 para cada documento\n",
    "    scores = [score(i, query_terms) for i in range(len(corpus))]\n",
    "    \n",
    "    # Obtener los top N documentos\n",
    "    ranked_docs = sorted(range(len(scores)), key=lambda i: scores[i], reverse=True)[:top_n]\n",
    "    \n",
    "    return ranked_docs, scores\n",
    "\n",
    "# URL de la página web\n",
    "url = 'https://gestion.pe/?ref=gesr'\n",
    "\n",
    "# Etapa 1: Extraer los títulos de la página\n",
    "titulos = obtener_noticias(url)\n",
    "\n",
    "# Ver cuántos titulares se han extraído\n",
    "print(f'Titulares extraídos: {len(titulos)}')\n",
    "\n",
    "# Etapa 2: Aplicar BM25 para buscar noticias relevantes sobre \"fraudes electrónicos\"\n",
    "query = \"desgravamen\"\n",
    "top_docs, bm25_scores = bm25_search(titulos, query, top_n=10)\n",
    "\n",
    "# Mostrar los resultados más relevantes (títulos)\n",
    "for i in top_docs:\n",
    "    print(f\"Titulo: {titulos[i]}\")\n",
    "    print(f\"Puntaje BM25: {bm25_scores[i]:.4f}\")"
   ]
  },
  {
   "cell_type": "code",
   "execution_count": null,
   "id": "75cc9fad",
   "metadata": {},
   "outputs": [],
   "source": []
  }
 ],
 "metadata": {
  "kernelspec": {
   "display_name": "Python 3 (ipykernel)",
   "language": "python",
   "name": "python3"
  },
  "language_info": {
   "codemirror_mode": {
    "name": "ipython",
    "version": 3
   },
   "file_extension": ".py",
   "mimetype": "text/x-python",
   "name": "python",
   "nbconvert_exporter": "python",
   "pygments_lexer": "ipython3",
   "version": "3.11.4"
  }
 },
 "nbformat": 4,
 "nbformat_minor": 5
}
